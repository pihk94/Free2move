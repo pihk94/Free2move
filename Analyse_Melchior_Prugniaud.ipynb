{
  "nbformat": 4,
  "nbformat_minor": 0,
  "metadata": {
    "colab": {
      "name": "Analyse Melchior Prugniaud.ipynb",
      "provenance": [],
      "collapsed_sections": [],
      "authorship_tag": "ABX9TyNsy6opInQE/Q9gogZi0Crh",
      "include_colab_link": true
    },
    "kernelspec": {
      "name": "python3",
      "display_name": "Python 3"
    }
  },
  "cells": [
    {
      "cell_type": "markdown",
      "metadata": {
        "id": "view-in-github",
        "colab_type": "text"
      },
      "source": [
        "<a href=\"https://colab.research.google.com/github/pihk94/Free2move/blob/master/Analyse_Melchior_Prugniaud.ipynb\" target=\"_parent\"><img src=\"https://colab.research.google.com/assets/colab-badge.svg\" alt=\"Open In Colab\"/></a>"
      ]
    },
    {
      "cell_type": "markdown",
      "metadata": {
        "id": "sLnxQ4gPMV4b",
        "colab_type": "text"
      },
      "source": [
        "### Analyse des données e-commerce\n",
        "\n",
        "Tout d'abord, importons les packages que nous utiliserons."
      ]
    },
    {
      "cell_type": "code",
      "metadata": {
        "id": "x5eL0ltKLrlA",
        "colab_type": "code",
        "colab": {
          "base_uri": "https://localhost:8080/",
          "height": 51
        },
        "outputId": "a683e238-02b4-4350-9856-7527cca8617b"
      },
      "source": [
        "import pandas as pd\n",
        "import numpy as np\n",
        "import matplotlib.pyplot as plt\n",
        "import seaborn as sns\n",
        "from datetime import datetime"
      ],
      "execution_count": 2,
      "outputs": [
        {
          "output_type": "stream",
          "text": [
            "/usr/local/lib/python3.6/dist-packages/statsmodels/tools/_testing.py:19: FutureWarning: pandas.util.testing is deprecated. Use the functions in the public API at pandas.testing instead.\n",
            "  import pandas.util.testing as tm\n"
          ],
          "name": "stderr"
        }
      ]
    },
    {
      "cell_type": "markdown",
      "metadata": {
        "id": "3PkTyoY6Mac3",
        "colab_type": "text"
      },
      "source": [
        "Import des fichiers csv."
      ]
    },
    {
      "cell_type": "code",
      "metadata": {
        "id": "tKbR3GUTMsmJ",
        "colab_type": "code",
        "colab": {}
      },
      "source": [
        "!wget https://raw.githubusercontent.com/pihk94/Free2move/master/data/customer.csv customer.csv\n",
        "!wget https://raw.githubusercontent.com/pihk94/Free2move/master/data/orders.csv orders.csv\n",
        "!wget https://raw.githubusercontent.com/pihk94/Free2move/master/data/items.csv items.csv\n",
        "!wget https://raw.githubusercontent.com/pihk94/Free2move/master/data/products.csv products.csv\n"
      ],
      "execution_count": null,
      "outputs": []
    },
    {
      "cell_type": "code",
      "metadata": {
        "id": "Y2KGutdvMalN",
        "colab_type": "code",
        "colab": {}
      },
      "source": [
        "products = pd.read_csv('products.csv')\n",
        "items = pd.read_csv('items.csv')\n",
        "customers = pd.read_csv('customer.csv')\n",
        "orders = pd.read_csv('orders.csv')"
      ],
      "execution_count": 4,
      "outputs": []
    },
    {
      "cell_type": "code",
      "metadata": {
        "id": "7igG0Bg3OUlB",
        "colab_type": "code",
        "colab": {
          "base_uri": "https://localhost:8080/",
          "height": 289
        },
        "outputId": "5f409421-79a7-4684-a028-38773c4c1e30"
      },
      "source": [
        "for i,j in zip([products, items, customers, orders],['products','items','customers','orders']):\n",
        "    print('Les dimensions de {} sont : {} entrées pour {} colonnes.\\nLes variables sont :\\n {}\\n'.format(\n",
        "    j, i.shape[0], i.shape[1], list(i.columns) ))"
      ],
      "execution_count": 5,
      "outputs": [
        {
          "output_type": "stream",
          "text": [
            "Les dimensions de products sont : 32951 entrées pour 10 colonnes.\n",
            "Les variables sont :\n",
            " ['product_id', 'product_category_name', 'product_name_lenght', 'product_description_lenght', 'product_photos_qty', 'product_weight_g', 'product_length_cm', 'product_height_cm', 'product_width_cm', 'product_category_name_english']\n",
            "\n",
            "Les dimensions de items sont : 112650 entrées pour 7 colonnes.\n",
            "Les variables sont :\n",
            " ['order_id', 'order_item_id', 'product_id', 'seller_id', 'shipping_limit_date', 'price', 'freight_value']\n",
            "\n",
            "Les dimensions de customers sont : 99441 entrées pour 5 colonnes.\n",
            "Les variables sont :\n",
            " ['customer_id', 'customer_unique_id', 'customer_zip_code_prefix', 'customer_city', 'customer_state']\n",
            "\n",
            "Les dimensions de orders sont : 99441 entrées pour 8 colonnes.\n",
            "Les variables sont :\n",
            " ['order_id', 'customer_id', 'order_status', 'order_purchase_timestamp', 'order_approved_at', 'order_delivered_carrier_date', 'order_delivered_customer_date', 'order_estimated_delivery_date']\n",
            "\n"
          ],
          "name": "stdout"
        }
      ]
    },
    {
      "cell_type": "markdown",
      "metadata": {
        "id": "hPkVuKcWOnQe",
        "colab_type": "text"
      },
      "source": [
        "## Rapide statistiques descriptives des différentes tables\n",
        "\n",
        "Commençons par la table 'products'.\n",
        "\n"
      ]
    },
    {
      "cell_type": "code",
      "metadata": {
        "id": "AVbwmcsPOViG",
        "colab_type": "code",
        "colab": {
          "base_uri": "https://localhost:8080/",
          "height": 204
        },
        "outputId": "6b7e9705-5343-491e-90ed-2eb95a5e158c"
      },
      "source": [
        "products.head(5)"
      ],
      "execution_count": 6,
      "outputs": [
        {
          "output_type": "execute_result",
          "data": {
            "text/html": [
              "<div>\n",
              "<style scoped>\n",
              "    .dataframe tbody tr th:only-of-type {\n",
              "        vertical-align: middle;\n",
              "    }\n",
              "\n",
              "    .dataframe tbody tr th {\n",
              "        vertical-align: top;\n",
              "    }\n",
              "\n",
              "    .dataframe thead th {\n",
              "        text-align: right;\n",
              "    }\n",
              "</style>\n",
              "<table border=\"1\" class=\"dataframe\">\n",
              "  <thead>\n",
              "    <tr style=\"text-align: right;\">\n",
              "      <th></th>\n",
              "      <th>product_id</th>\n",
              "      <th>product_category_name</th>\n",
              "      <th>product_name_lenght</th>\n",
              "      <th>product_description_lenght</th>\n",
              "      <th>product_photos_qty</th>\n",
              "      <th>product_weight_g</th>\n",
              "      <th>product_length_cm</th>\n",
              "      <th>product_height_cm</th>\n",
              "      <th>product_width_cm</th>\n",
              "      <th>product_category_name_english</th>\n",
              "    </tr>\n",
              "  </thead>\n",
              "  <tbody>\n",
              "    <tr>\n",
              "      <th>0</th>\n",
              "      <td>1e9e8ef04dbcff4541ed26657ea517e5</td>\n",
              "      <td>perfumery</td>\n",
              "      <td>40.0</td>\n",
              "      <td>287.0</td>\n",
              "      <td>1.0</td>\n",
              "      <td>225.0</td>\n",
              "      <td>16.0</td>\n",
              "      <td>10.0</td>\n",
              "      <td>14.0</td>\n",
              "      <td>perfumery</td>\n",
              "    </tr>\n",
              "    <tr>\n",
              "      <th>1</th>\n",
              "      <td>3aa071139cb16b67ca9e5dea641aaa2f</td>\n",
              "      <td>art</td>\n",
              "      <td>44.0</td>\n",
              "      <td>276.0</td>\n",
              "      <td>1.0</td>\n",
              "      <td>1000.0</td>\n",
              "      <td>30.0</td>\n",
              "      <td>18.0</td>\n",
              "      <td>20.0</td>\n",
              "      <td>art</td>\n",
              "    </tr>\n",
              "    <tr>\n",
              "      <th>2</th>\n",
              "      <td>96bd76ec8810374ed1b65e291975717f</td>\n",
              "      <td>sports_leisure</td>\n",
              "      <td>46.0</td>\n",
              "      <td>250.0</td>\n",
              "      <td>1.0</td>\n",
              "      <td>154.0</td>\n",
              "      <td>18.0</td>\n",
              "      <td>9.0</td>\n",
              "      <td>15.0</td>\n",
              "      <td>sports_leisure</td>\n",
              "    </tr>\n",
              "    <tr>\n",
              "      <th>3</th>\n",
              "      <td>cef67bcfe19066a932b7673e239eb23d</td>\n",
              "      <td>baby</td>\n",
              "      <td>27.0</td>\n",
              "      <td>261.0</td>\n",
              "      <td>1.0</td>\n",
              "      <td>371.0</td>\n",
              "      <td>26.0</td>\n",
              "      <td>4.0</td>\n",
              "      <td>26.0</td>\n",
              "      <td>baby</td>\n",
              "    </tr>\n",
              "    <tr>\n",
              "      <th>4</th>\n",
              "      <td>9dc1a7de274444849c219cff195d0b71</td>\n",
              "      <td>housewares</td>\n",
              "      <td>37.0</td>\n",
              "      <td>402.0</td>\n",
              "      <td>4.0</td>\n",
              "      <td>625.0</td>\n",
              "      <td>20.0</td>\n",
              "      <td>17.0</td>\n",
              "      <td>13.0</td>\n",
              "      <td>housewares</td>\n",
              "    </tr>\n",
              "  </tbody>\n",
              "</table>\n",
              "</div>"
            ],
            "text/plain": [
              "                         product_id  ... product_category_name_english\n",
              "0  1e9e8ef04dbcff4541ed26657ea517e5  ...                     perfumery\n",
              "1  3aa071139cb16b67ca9e5dea641aaa2f  ...                           art\n",
              "2  96bd76ec8810374ed1b65e291975717f  ...                sports_leisure\n",
              "3  cef67bcfe19066a932b7673e239eb23d  ...                          baby\n",
              "4  9dc1a7de274444849c219cff195d0b71  ...                    housewares\n",
              "\n",
              "[5 rows x 10 columns]"
            ]
          },
          "metadata": {
            "tags": []
          },
          "execution_count": 6
        }
      ]
    },
    {
      "cell_type": "code",
      "metadata": {
        "id": "O_f6GNNXOpea",
        "colab_type": "code",
        "colab": {
          "base_uri": "https://localhost:8080/",
          "height": 306
        },
        "outputId": "3fc9e55a-3a49-4230-acdc-4926bff80614"
      },
      "source": [
        "products.info()"
      ],
      "execution_count": 7,
      "outputs": [
        {
          "output_type": "stream",
          "text": [
            "<class 'pandas.core.frame.DataFrame'>\n",
            "RangeIndex: 32951 entries, 0 to 32950\n",
            "Data columns (total 10 columns):\n",
            " #   Column                         Non-Null Count  Dtype  \n",
            "---  ------                         --------------  -----  \n",
            " 0   product_id                     32951 non-null  object \n",
            " 1   product_category_name          32328 non-null  object \n",
            " 2   product_name_lenght            32341 non-null  float64\n",
            " 3   product_description_lenght     32341 non-null  float64\n",
            " 4   product_photos_qty             32341 non-null  float64\n",
            " 5   product_weight_g               32949 non-null  float64\n",
            " 6   product_length_cm              32949 non-null  float64\n",
            " 7   product_height_cm              32949 non-null  float64\n",
            " 8   product_width_cm               32949 non-null  float64\n",
            " 9   product_category_name_english  32328 non-null  object \n",
            "dtypes: float64(7), object(3)\n",
            "memory usage: 2.5+ MB\n"
          ],
          "name": "stdout"
        }
      ]
    },
    {
      "cell_type": "markdown",
      "metadata": {
        "id": "8yl4djl_O4GE",
        "colab_type": "text"
      },
      "source": [
        "Cette table contient 10 colonnes, dont une qui est l'id du produit et les autres concernent les spécificités des objets (poids, dimensions...). De plus, on retrouve des valeurs manquantes ou nulles pour toutes les colonnes exceptés l'identifiant du produit.\n",
        "\n",
        "Deux colonnes se ressemblent, product_category_name et product_category_name_english, voyons si elles sont identiques."
      ]
    },
    {
      "cell_type": "code",
      "metadata": {
        "id": "tpRawTmwO1kk",
        "colab_type": "code",
        "colab": {
          "base_uri": "https://localhost:8080/",
          "height": 51
        },
        "outputId": "688c5b24-db6f-4da6-8128-f20ee39c2fee"
      },
      "source": [
        "products[(products.product_category_name != products.product_category_name_english)].product_category_name.map(str).value_counts()"
      ],
      "execution_count": 8,
      "outputs": [
        {
          "output_type": "execute_result",
          "data": {
            "text/plain": [
              "nan    623\n",
              "Name: product_category_name, dtype: int64"
            ]
          },
          "metadata": {
            "tags": []
          },
          "execution_count": 8
        }
      ]
    },
    {
      "cell_type": "code",
      "metadata": {
        "id": "lkOuH7FZO1rb",
        "colab_type": "code",
        "colab": {}
      },
      "source": [
        "products.drop('product_category_name_english',axis = 1, inplace=True)"
      ],
      "execution_count": 9,
      "outputs": []
    },
    {
      "cell_type": "code",
      "metadata": {
        "id": "bfgKB5HGO1ty",
        "colab_type": "code",
        "colab": {
          "base_uri": "https://localhost:8080/",
          "height": 391
        },
        "outputId": "8c199ecd-f9a9-45dd-bffe-d2d356c18f99"
      },
      "source": [
        "print('Liste des 20 catégories de produits les plus présentes')\n",
        "products.product_category_name.value_counts().head(20)"
      ],
      "execution_count": 10,
      "outputs": [
        {
          "output_type": "stream",
          "text": [
            "Liste des 20 catégories de produits les plus présentes\n"
          ],
          "name": "stdout"
        },
        {
          "output_type": "execute_result",
          "data": {
            "text/plain": [
              "bed_bath_table                     3029\n",
              "sports_leisure                     2867\n",
              "furniture_decor                    2657\n",
              "health_beauty                      2444\n",
              "housewares                         2335\n",
              "auto                               1900\n",
              "computers_accessories              1639\n",
              "toys                               1411\n",
              "watches_gifts                      1329\n",
              "telephony                          1134\n",
              "baby                                919\n",
              "perfumery                           868\n",
              "stationery                          849\n",
              "fashion_bags_accessories            849\n",
              "cool_stuff                          789\n",
              "garden_tools                        753\n",
              "pet_shop                            719\n",
              "electronics                         517\n",
              "construction_tools_construction     400\n",
              "home_appliances                     370\n",
              "Name: product_category_name, dtype: int64"
            ]
          },
          "metadata": {
            "tags": []
          },
          "execution_count": 10
        }
      ]
    },
    {
      "cell_type": "code",
      "metadata": {
        "id": "AqMtSvLGO1wp",
        "colab_type": "code",
        "colab": {
          "base_uri": "https://localhost:8080/",
          "height": 624
        },
        "outputId": "63e94bf8-f513-49e9-a30b-a1690f8062d1"
      },
      "source": [
        "plt.figure(figsize=(12,10))\n",
        "plt.title('Les 20 catégories les plus représentés')\n",
        "sns.barplot(x = products.product_category_name.value_counts().head(20).values, y = products.product_category_name.value_counts().head(20).index, palette=\"vlag\")"
      ],
      "execution_count": 11,
      "outputs": [
        {
          "output_type": "execute_result",
          "data": {
            "text/plain": [
              "<matplotlib.axes._subplots.AxesSubplot at 0x7f62c8b88da0>"
            ]
          },
          "metadata": {
            "tags": []
          },
          "execution_count": 11
        },
        {
          "output_type": "display_data",
          "data": {
            "image/png": "[encoded data removed]",
            "text/plain": [
              "<Figure size 864x720 with 1 Axes>"
            ]
          },
          "metadata": {
            "tags": [],
            "needs_background": "light"
          }
        }
      ]
    },
    {
      "cell_type": "markdown",
      "metadata": {
        "id": "SLB_TcpKPhOQ",
        "colab_type": "text"
      },
      "source": [
        "Pour les autres variables, on peut représenter la distribution de chacune permettant ainsi de tirer quelques observations comme par exemple qu'en moyenne les produits sont de petites tailles (20cm x 20cm x 20cm) et font un poids aux alentours de 1 kg. Ce qui correspond bien aux observations réalisés ci-dessus dans les catégories les plus vendues (parfums, téléphone, fourniture de décor...)."
      ]
    },
    {
      "cell_type": "code",
      "metadata": {
        "id": "9b1KZyaQO1ye",
        "colab_type": "code",
        "colab": {
          "base_uri": "https://localhost:8080/",
          "height": 949
        },
        "outputId": "051cf1a7-1b0e-40b4-8837-d9878dab004c"
      },
      "source": [
        "plt.figure(figsize = (16,16))\n",
        "plt.subplots_adjust(hspace=0.4)\n",
        "for var,i in zip(['product_name_lenght', 'product_description_lenght', 'product_photos_qty', 'product_weight_g', 'product_length_cm','product_height_cm','product_width_cm'],range(7)):\n",
        "    ax = plt.subplot(4,2,i+1)\n",
        "    ax.set_title('Distribution de '+var)\n",
        "    sns.distplot(products[var])"
      ],
      "execution_count": 12,
      "outputs": [
        {
          "output_type": "display_data",
          "data": {
            "image/png": "[encoded data removed]",
            "text/plain": [
              "<Figure size 1152x1152 with 7 Axes>"
            ]
          },
          "metadata": {
            "tags": [],
            "needs_background": "light"
          }
        }
      ]
    },
    {
      "cell_type": "markdown",
      "metadata": {
        "id": "f7mqDZjuP1MZ",
        "colab_type": "text"
      },
      "source": [
        "#### Analysons désormais la table orders\n",
        "\n",
        "Deux des variables sont des variables liées à l'identification du client et de l'ordre."
      ]
    },
    {
      "cell_type": "code",
      "metadata": {
        "id": "omEuAomJP1vL",
        "colab_type": "code",
        "colab": {
          "base_uri": "https://localhost:8080/",
          "height": 204
        },
        "outputId": "8e0a0bf1-97b2-4300-e5cc-9cad33f9caca"
      },
      "source": [
        "orders.head(5)"
      ],
      "execution_count": 13,
      "outputs": [
        {
          "output_type": "execute_result",
          "data": {
            "text/html": [
              "<div>\n",
              "<style scoped>\n",
              "    .dataframe tbody tr th:only-of-type {\n",
              "        vertical-align: middle;\n",
              "    }\n",
              "\n",
              "    .dataframe tbody tr th {\n",
              "        vertical-align: top;\n",
              "    }\n",
              "\n",
              "    .dataframe thead th {\n",
              "        text-align: right;\n",
              "    }\n",
              "</style>\n",
              "<table border=\"1\" class=\"dataframe\">\n",
              "  <thead>\n",
              "    <tr style=\"text-align: right;\">\n",
              "      <th></th>\n",
              "      <th>order_id</th>\n",
              "      <th>customer_id</th>\n",
              "      <th>order_status</th>\n",
              "      <th>order_purchase_timestamp</th>\n",
              "      <th>order_approved_at</th>\n",
              "      <th>order_delivered_carrier_date</th>\n",
              "      <th>order_delivered_customer_date</th>\n",
              "      <th>order_estimated_delivery_date</th>\n",
              "    </tr>\n",
              "  </thead>\n",
              "  <tbody>\n",
              "    <tr>\n",
              "      <th>0</th>\n",
              "      <td>e481f51cbdc54678b7cc49136f2d6af7</td>\n",
              "      <td>9ef432eb6251297304e76186b10a928d</td>\n",
              "      <td>delivered</td>\n",
              "      <td>2017-10-02 10:56:33</td>\n",
              "      <td>2017-10-02 11:07:15</td>\n",
              "      <td>2017-10-04 19:55:00</td>\n",
              "      <td>2017-10-10 21:25:13</td>\n",
              "      <td>2017-10-18 00:00:00</td>\n",
              "    </tr>\n",
              "    <tr>\n",
              "      <th>1</th>\n",
              "      <td>53cdb2fc8bc7dce0b6741e2150273451</td>\n",
              "      <td>b0830fb4747a6c6d20dea0b8c802d7ef</td>\n",
              "      <td>delivered</td>\n",
              "      <td>2018-07-24 20:41:37</td>\n",
              "      <td>2018-07-26 03:24:27</td>\n",
              "      <td>2018-07-26 14:31:00</td>\n",
              "      <td>2018-08-07 15:27:45</td>\n",
              "      <td>2018-08-13 00:00:00</td>\n",
              "    </tr>\n",
              "    <tr>\n",
              "      <th>2</th>\n",
              "      <td>47770eb9100c2d0c44946d9cf07ec65d</td>\n",
              "      <td>41ce2a54c0b03bf3443c3d931a367089</td>\n",
              "      <td>delivered</td>\n",
              "      <td>2018-08-08 08:38:49</td>\n",
              "      <td>2018-08-08 08:55:23</td>\n",
              "      <td>2018-08-08 13:50:00</td>\n",
              "      <td>2018-08-17 18:06:29</td>\n",
              "      <td>2018-09-04 00:00:00</td>\n",
              "    </tr>\n",
              "    <tr>\n",
              "      <th>3</th>\n",
              "      <td>949d5b44dbf5de918fe9c16f97b45f8a</td>\n",
              "      <td>f88197465ea7920adcdbec7375364d82</td>\n",
              "      <td>delivered</td>\n",
              "      <td>2017-11-18 19:28:06</td>\n",
              "      <td>2017-11-18 19:45:59</td>\n",
              "      <td>2017-11-22 13:39:59</td>\n",
              "      <td>2017-12-02 00:28:42</td>\n",
              "      <td>2017-12-15 00:00:00</td>\n",
              "    </tr>\n",
              "    <tr>\n",
              "      <th>4</th>\n",
              "      <td>ad21c59c0840e6cb83a9ceb5573f8159</td>\n",
              "      <td>8ab97904e6daea8866dbdbc4fb7aad2c</td>\n",
              "      <td>delivered</td>\n",
              "      <td>2018-02-13 21:18:39</td>\n",
              "      <td>2018-02-13 22:20:29</td>\n",
              "      <td>2018-02-14 19:46:34</td>\n",
              "      <td>2018-02-16 18:17:02</td>\n",
              "      <td>2018-02-26 00:00:00</td>\n",
              "    </tr>\n",
              "  </tbody>\n",
              "</table>\n",
              "</div>"
            ],
            "text/plain": [
              "                           order_id  ... order_estimated_delivery_date\n",
              "0  e481f51cbdc54678b7cc49136f2d6af7  ...           2017-10-18 00:00:00\n",
              "1  53cdb2fc8bc7dce0b6741e2150273451  ...           2018-08-13 00:00:00\n",
              "2  47770eb9100c2d0c44946d9cf07ec65d  ...           2018-09-04 00:00:00\n",
              "3  949d5b44dbf5de918fe9c16f97b45f8a  ...           2017-12-15 00:00:00\n",
              "4  ad21c59c0840e6cb83a9ceb5573f8159  ...           2018-02-26 00:00:00\n",
              "\n",
              "[5 rows x 8 columns]"
            ]
          },
          "metadata": {
            "tags": []
          },
          "execution_count": 13
        }
      ]
    },
    {
      "cell_type": "code",
      "metadata": {
        "id": "eLVZ-YC4P1yn",
        "colab_type": "code",
        "colab": {
          "base_uri": "https://localhost:8080/",
          "height": 272
        },
        "outputId": "250a7e05-2a38-4095-9b87-810550742185"
      },
      "source": [
        "orders.info()"
      ],
      "execution_count": 14,
      "outputs": [
        {
          "output_type": "stream",
          "text": [
            "<class 'pandas.core.frame.DataFrame'>\n",
            "RangeIndex: 99441 entries, 0 to 99440\n",
            "Data columns (total 8 columns):\n",
            " #   Column                         Non-Null Count  Dtype \n",
            "---  ------                         --------------  ----- \n",
            " 0   order_id                       99441 non-null  object\n",
            " 1   customer_id                    99441 non-null  object\n",
            " 2   order_status                   99441 non-null  object\n",
            " 3   order_purchase_timestamp       99441 non-null  object\n",
            " 4   order_approved_at              99281 non-null  object\n",
            " 5   order_delivered_carrier_date   97658 non-null  object\n",
            " 6   order_delivered_customer_date  96476 non-null  object\n",
            " 7   order_estimated_delivery_date  99441 non-null  object\n",
            "dtypes: object(8)\n",
            "memory usage: 6.1+ MB\n"
          ],
          "name": "stdout"
        }
      ]
    },
    {
      "cell_type": "markdown",
      "metadata": {
        "id": "emE1RwI4QSr8",
        "colab_type": "text"
      },
      "source": [
        "La grande majorité des ordres ont été délivrés (97%), ou sont dans le processus de livraison (shipped, processing, invoiced, approved), le reste étant annulé ou indisponible (1%). Cet e-commerce possède donc un historique de vente conséquent comparé au nombre de commandes en cours."
      ]
    },
    {
      "cell_type": "code",
      "metadata": {
        "id": "kepkOrqaP10i",
        "colab_type": "code",
        "colab": {
          "base_uri": "https://localhost:8080/",
          "height": 170
        },
        "outputId": "96dd3c43-0521-43e2-a5d2-6dfdb44a58ed"
      },
      "source": [
        "orders.order_status.value_counts()"
      ],
      "execution_count": 15,
      "outputs": [
        {
          "output_type": "execute_result",
          "data": {
            "text/plain": [
              "delivered      96478\n",
              "shipped         1107\n",
              "canceled         625\n",
              "unavailable      609\n",
              "invoiced         314\n",
              "processing       301\n",
              "created            5\n",
              "approved           2\n",
              "Name: order_status, dtype: int64"
            ]
          },
          "metadata": {
            "tags": []
          },
          "execution_count": 15
        }
      ]
    },
    {
      "cell_type": "code",
      "metadata": {
        "id": "bJhXRW2iQokE",
        "colab_type": "code",
        "colab": {}
      },
      "source": [
        "orders.order_purchase_timestamp = pd.to_datetime(orders.order_purchase_timestamp)"
      ],
      "execution_count": 16,
      "outputs": []
    },
    {
      "cell_type": "markdown",
      "metadata": {
        "id": "yOj8QujQQnjX",
        "colab_type": "text"
      },
      "source": [
        "Afin de mieux visualiser les évolutions des ventes au cours du temps, l'impact du jour de la semaine, du mois ou de l'année, je vais créer des variables supplémentaires.\n"
      ]
    },
    {
      "cell_type": "code",
      "metadata": {
        "id": "0jFzKWO5Qrcx",
        "colab_type": "code",
        "colab": {}
      },
      "source": [
        "def extract_day(x):\n",
        "    \"\"\"\n",
        "        Input : \n",
        "            x : datetime\n",
        "        Output:\n",
        "            Jour de la semaine\n",
        "    \"\"\"\n",
        "    dic = {0:'Lundi',1:'Mardi',2:'Mercredi',3:'Jeudi',4:'Vendredi',5:'Samedi',6:'Dimanche'}\n",
        "    weekday = x.weekday()\n",
        "    return dic[weekday]\n",
        "def extract_month(x):\n",
        "    \"\"\"\n",
        "        Input : \n",
        "            x: datetime\n",
        "        Output : \n",
        "            Nom du mois\n",
        "    \"\"\"\n",
        "    dic = {1:\"Janvier\",2:\"Février\",3:\"Mars\",4:\"Avril\",5:\"Mai\",6:\"Juin\",7:\"Juillet\",8:\"Août\",9:\"Septembre\",10:\"Octobre\",\n",
        "          11:\"Novembre\",12:\"Décembre\"}\n",
        "    month = x.month\n",
        "    return dic[month]\n",
        "def extract_year(x):\n",
        "    \"\"\"\n",
        "        Input :\n",
        "            x : datetime\n",
        "        Output :\n",
        "            Année\n",
        "    \"\"\"\n",
        "    return x.year\n",
        "def extract_month_year(x):\n",
        "    \"\"\"\n",
        "        Input:\n",
        "            x : datetime\n",
        "        Output:\n",
        "            Année et mois\n",
        "    \"\"\"\n",
        "    return x.strftime('%Y%m')"
      ],
      "execution_count": 17,
      "outputs": []
    },
    {
      "cell_type": "code",
      "metadata": {
        "id": "JOiJYcf8RG7d",
        "colab_type": "code",
        "colab": {}
      },
      "source": [
        "orders['WeekDay'] = orders.order_purchase_timestamp.apply(extract_day)\n",
        "orders['Month'] = orders.order_purchase_timestamp.apply(extract_month)\n",
        "orders['NumMonth'] = orders.order_purchase_timestamp.dt.month\n",
        "orders['Year'] = orders.order_purchase_timestamp.apply(extract_year)\n",
        "orders['Month_year'] = orders.order_purchase_timestamp.apply(extract_month_year)\n",
        "orders['Quarter'] = orders.order_purchase_timestamp.dt.quarter"
      ],
      "execution_count": 18,
      "outputs": []
    },
    {
      "cell_type": "markdown",
      "metadata": {
        "id": "2K8eXV8cRNMz",
        "colab_type": "text"
      },
      "source": [
        "Seul trois mois sont présent en 2016, le nombre de commandes a augmenté sur toute la période. Il est encore en augmentation en 2018 et il ne concerne pourtant que 9 mois de 2018 laissant entendre une croissance plus forte encore sur 2018."
      ]
    },
    {
      "cell_type": "code",
      "metadata": {
        "id": "E9cU1VhURNgJ",
        "colab_type": "code",
        "colab": {
          "base_uri": "https://localhost:8080/",
          "height": 282
        },
        "outputId": "e5ca4654-6b36-4f38-fc31-f8633b8ac1b8"
      },
      "source": [
        "sns.barplot(x = orders.Year.value_counts().index, y = orders.Year.value_counts().values, palette='YlGnBu')"
      ],
      "execution_count": 19,
      "outputs": [
        {
          "output_type": "execute_result",
          "data": {
            "text/plain": [
              "<matplotlib.axes._subplots.AxesSubplot at 0x7f62c7ef4160>"
            ]
          },
          "metadata": {
            "tags": []
          },
          "execution_count": 19
        },
        {
          "output_type": "display_data",
          "data": {
            "image/png": "[encoded data removed]",
            "text/plain": [
              "<Figure size 432x288 with 1 Axes>"
            ]
          },
          "metadata": {
            "tags": [],
            "needs_background": "light"
          }
        }
      ]
    },
    {
      "cell_type": "markdown",
      "metadata": {
        "id": "J8F06WpyRRRj",
        "colab_type": "text"
      },
      "source": [
        "La répartition en fonction du semestre semble être assez identique car nous avons presque uniquement les données de 2017 pour le dernier trimestre de l'année."
      ]
    },
    {
      "cell_type": "code",
      "metadata": {
        "id": "DLHq1fsaRRh9",
        "colab_type": "code",
        "colab": {
          "base_uri": "https://localhost:8080/",
          "height": 282
        },
        "outputId": "0f09cd45-f2f5-4ea1-f715-3e8c98e59407"
      },
      "source": [
        "sns.barplot(x = orders.Quarter.value_counts().index, y = orders.Quarter.value_counts().values, palette='YlGnBu')"
      ],
      "execution_count": 20,
      "outputs": [
        {
          "output_type": "execute_result",
          "data": {
            "text/plain": [
              "<matplotlib.axes._subplots.AxesSubplot at 0x7f62c7ebb160>"
            ]
          },
          "metadata": {
            "tags": []
          },
          "execution_count": 20
        },
        {
          "output_type": "display_data",
          "data": {
            "image/png": "[encoded data removed]",
            "text/plain": [
              "<Figure size 432x288 with 1 Axes>"
            ]
          },
          "metadata": {
            "tags": [],
            "needs_background": "light"
          }
        }
      ]
    },
    {
      "cell_type": "markdown",
      "metadata": {
        "id": "t3ZmDiGfRU1Z",
        "colab_type": "text"
      },
      "source": [
        "Les jours de la semaine semble avoir un impact sur le nombre de commande, le week end notamment il y a bien moins de commandes."
      ]
    },
    {
      "cell_type": "code",
      "metadata": {
        "id": "QLtOol5GRVDC",
        "colab_type": "code",
        "colab": {
          "base_uri": "https://localhost:8080/",
          "height": 282
        },
        "outputId": "68554b5c-ed0e-4966-b13b-c019fb95a987"
      },
      "source": [
        "sns.barplot(x = orders.WeekDay.value_counts().index, y = orders.WeekDay.value_counts().values, palette='YlGnBu')"
      ],
      "execution_count": 21,
      "outputs": [
        {
          "output_type": "execute_result",
          "data": {
            "text/plain": [
              "<matplotlib.axes._subplots.AxesSubplot at 0x7f62c665d2b0>"
            ]
          },
          "metadata": {
            "tags": []
          },
          "execution_count": 21
        },
        {
          "output_type": "display_data",
          "data": {
            "image/png": "[encoded data removed]",
            "text/plain": [
              "<Figure size 432x288 with 1 Axes>"
            ]
          },
          "metadata": {
            "tags": [],
            "needs_background": "light"
          }
        }
      ]
    },
    {
      "cell_type": "markdown",
      "metadata": {
        "id": "zYvO0NdeRXjZ",
        "colab_type": "text"
      },
      "source": [
        "Comme vu précédement, les mois de fin d'année réalisent un nombre de commandes moins important. Tandis que ceux autour de la demi année semblent plus propices."
      ]
    },
    {
      "cell_type": "code",
      "metadata": {
        "id": "eCjMouAcRYLA",
        "colab_type": "code",
        "colab": {}
      },
      "source": [
        "data = pd.DataFrame()\n",
        "lst = []\n",
        "dic = {1:\"Janvier\",2:\"Février\",3:\"Mars\",4:\"Avril\",5:\"Mai\",6:\"Juin\",7:\"Juillet\",8:\"Août\",9:\"Septembre\",10:\"Octobre\",\n",
        "          11:\"Novembre\",12:\"Décembre\"}\n",
        "for year in orders.Year.unique():\n",
        "    for mois in orders.NumMonth.unique():\n",
        "        nb = len(orders[(orders.NumMonth == mois) & (orders.Year == year)])\n",
        "        lst += [(year, mois, nb, dic[mois])]\n",
        "data = pd.DataFrame(lst, columns = ['Annee','NumMois','Nbre',\"Mois\"])\n",
        "data = data[data.Annee > 2016]\n",
        "data.sort_values([\"Annee\",\"NumMois\"],inplace=True)"
      ],
      "execution_count": 22,
      "outputs": []
    },
    {
      "cell_type": "code",
      "metadata": {
        "id": "BGTMVdDYRvXq",
        "colab_type": "code",
        "colab": {
          "base_uri": "https://localhost:8080/",
          "height": 404
        },
        "outputId": "abb07ef7-b344-4726-a523-dbba27b903ec"
      },
      "source": [
        "plt.figure(figsize=(12,6))\n",
        "plt.title('Comparaison des commandes entre 2017 et 2018')\n",
        "sns.barplot(data = data, x = \"Mois\", y = \"Nbre\", hue =\"Annee\", palette='BrBG')\n",
        "plt.show()"
      ],
      "execution_count": 23,
      "outputs": [
        {
          "output_type": "display_data",
          "data": {
            "image/png": "[encoded data removed]",
            "text/plain": [
              "<Figure size 864x432 with 1 Axes>"
            ]
          },
          "metadata": {
            "tags": [],
            "needs_background": "light"
          }
        }
      ]
    },
    {
      "cell_type": "markdown",
      "metadata": {
        "id": "jVQP8nkVRxvS",
        "colab_type": "text"
      },
      "source": [
        "L'e-commerce semble avoir eu une croissance assez rapide en 2017 pour atteindre en 2018 une stagnation aux alentours de 7000 commandes."
      ]
    },
    {
      "cell_type": "code",
      "metadata": {
        "id": "LKkCP6y_RyB2",
        "colab_type": "code",
        "colab": {
          "base_uri": "https://localhost:8080/",
          "height": 511
        },
        "outputId": "0d668d8b-e3c8-4552-8601-5e1340c9780a"
      },
      "source": [
        "plt.figure(figsize=(16,8))\n",
        "sns.lineplot(data=orders['Month_year'].value_counts().sort_index(), \n",
        "             color='red', linewidth=3)\n",
        "plt.xticks(rotation=90)\n",
        "plt.show()"
      ],
      "execution_count": 24,
      "outputs": [
        {
          "output_type": "display_data",
          "data": {
            "image/png": "[encoded data removed]",
            "text/plain": [
              "<Figure size 1152x576 with 1 Axes>"
            ]
          },
          "metadata": {
            "tags": [],
            "needs_background": "light"
          }
        }
      ]
    },
    {
      "cell_type": "markdown",
      "metadata": {
        "id": "NAWsEQpsSDhg",
        "colab_type": "text"
      },
      "source": [
        "Je vais créer une dernière variable, pour découper l'heure et voir l'influence de celle ci sur le nombre de commande."
      ]
    },
    {
      "cell_type": "code",
      "metadata": {
        "id": "IinYnas0SDx0",
        "colab_type": "code",
        "colab": {}
      },
      "source": [
        "def extract_heure(x):\n",
        "    hour = x.hour\n",
        "    if hour <= 6:\n",
        "        return '0-6'\n",
        "    elif hour > 6 and hour <= 12:\n",
        "        return '6-12'\n",
        "    elif hour > 12 and hour <= 18:\n",
        "        return '12-18'\n",
        "    elif hour > 18:\n",
        "        return '18-24'\n",
        "orders[\"Hours\"] = orders.order_purchase_timestamp.apply(extract_heure)"
      ],
      "execution_count": 26,
      "outputs": []
    },
    {
      "cell_type": "markdown",
      "metadata": {
        "id": "1LRI8mNpSKcA",
        "colab_type": "text"
      },
      "source": [
        "Les commandes sont plus nombreuses l'après midi avec près de 2 tiers des commandes réalisés à ce moment là. La tranche la moins présente est celle de 0-6 heures"
      ]
    },
    {
      "cell_type": "code",
      "metadata": {
        "id": "tz1NF5sUSKoN",
        "colab_type": "code",
        "colab": {
          "base_uri": "https://localhost:8080/",
          "height": 357
        },
        "outputId": "82758341-c539-4e85-8337-e5a6a7eb7229"
      },
      "source": [
        "plt.figure(figsize=(12,6))\n",
        "plt.pie(orders.Hours.value_counts().values / len(orders), explode=(0,0,0,0), labels=orders.Hours.value_counts().index,\n",
        "        autopct='%1.1f%%', shadow=True)\n",
        "my_circle=plt.Circle((0,0),0.75,color='black', fc='white',linewidth=1.25)\n",
        "p=plt.gcf()\n",
        "p.gca().add_artist(my_circle)\n",
        "plt.show()"
      ],
      "execution_count": 27,
      "outputs": [
        {
          "output_type": "display_data",
          "data": {
            "image/png": "[encoded data removed]",
            "text/plain": [
              "<Figure size 864x432 with 1 Axes>"
            ]
          },
          "metadata": {
            "tags": []
          }
        }
      ]
    },
    {
      "cell_type": "markdown",
      "metadata": {
        "id": "GyMbJj6cSNt7",
        "colab_type": "text"
      },
      "source": [
        "Pour les prochaines variables qui sont les heures à laquelle la commande est passé à une étape supérieur, je vais uniquement calculé les délais entre chaque étape.\n"
      ]
    },
    {
      "cell_type": "code",
      "metadata": {
        "id": "2wGvRvhjSN2w",
        "colab_type": "code",
        "colab": {}
      },
      "source": [
        "orders.order_approved_at = pd.to_datetime(orders.order_approved_at)\n",
        "orders.order_delivered_carrier_date = pd.to_datetime(orders.order_delivered_carrier_date)\n",
        "orders.order_delivered_customer_date = pd.to_datetime(orders.order_delivered_customer_date)\n",
        "orders.order_estimated_delivery_date = pd.to_datetime(orders.order_estimated_delivery_date)"
      ],
      "execution_count": 28,
      "outputs": []
    },
    {
      "cell_type": "code",
      "metadata": {
        "id": "0wChXonPSnK5",
        "colab_type": "code",
        "colab": {}
      },
      "source": [
        "def diff_delai(x,y):\n",
        "    return (y - x).days"
      ],
      "execution_count": 29,
      "outputs": []
    },
    {
      "cell_type": "code",
      "metadata": {
        "id": "d0ZawbyfSpah",
        "colab_type": "code",
        "colab": {}
      },
      "source": [
        "orders['purchase_approved'] = orders.apply(lambda rows : diff_delai(rows.order_purchase_timestamp, rows.order_approved_at), axis = 1)\n",
        "orders['approved_carrier'] = orders.apply(lambda rows : diff_delai(rows.order_approved_at, rows.order_delivered_carrier_date), axis = 1)\n",
        "orders['carrier_customer'] = orders.apply(lambda rows : diff_delai(rows.order_delivered_carrier_date, rows.order_delivered_customer_date), axis = 1)\n",
        "orders['customer_estimated'] = orders.apply(lambda rows : diff_delai(rows.order_delivered_customer_date, rows.order_estimated_delivery_date), axis = 1)\n",
        "orders['purchase_customer'] = orders.apply(lambda rows : diff_delai(rows.order_approved_at, rows.order_delivered_customer_date), axis = 1)"
      ],
      "execution_count": 30,
      "outputs": []
    },
    {
      "cell_type": "markdown",
      "metadata": {
        "id": "VzJ9-SyiSp58",
        "colab_type": "text"
      },
      "source": [
        "Rapidement, les affichages ci-dessous permettent devoir les délais moyens en fonction des étapes.\n",
        "Par exemple, il faut compter environ 10 jours du passage de la commande à sa reception chez le client."
      ]
    },
    {
      "cell_type": "code",
      "metadata": {
        "id": "PM8Ufu_ISrlU",
        "colab_type": "code",
        "colab": {}
      },
      "source": [
        "for i,var in zip(range(4),['purchase_approved','approved_carrier','carrier_customer','customer_estimated','purchase_customer']):\n",
        "    print('Variable ' + var + '\\n')\n",
        "    print(orders[var].describe())"
      ],
      "execution_count": null,
      "outputs": []
    },
    {
      "cell_type": "markdown",
      "metadata": {
        "id": "26XBNTH4Tep1",
        "colab_type": "text"
      },
      "source": [
        "#### Analysons désormais la table Customers\n",
        "\n",
        "Deux des variables sont des variables liées à l'identification du client."
      ]
    },
    {
      "cell_type": "code",
      "metadata": {
        "id": "r1PCuGu_TfDf",
        "colab_type": "code",
        "colab": {
          "base_uri": "https://localhost:8080/",
          "height": 204
        },
        "outputId": "bfd5752f-0947-4abe-8c0e-8a09f8f0d197"
      },
      "source": [
        "customers.head(5)"
      ],
      "execution_count": 32,
      "outputs": [
        {
          "output_type": "execute_result",
          "data": {
            "text/html": [
              "<div>\n",
              "<style scoped>\n",
              "    .dataframe tbody tr th:only-of-type {\n",
              "        vertical-align: middle;\n",
              "    }\n",
              "\n",
              "    .dataframe tbody tr th {\n",
              "        vertical-align: top;\n",
              "    }\n",
              "\n",
              "    .dataframe thead th {\n",
              "        text-align: right;\n",
              "    }\n",
              "</style>\n",
              "<table border=\"1\" class=\"dataframe\">\n",
              "  <thead>\n",
              "    <tr style=\"text-align: right;\">\n",
              "      <th></th>\n",
              "      <th>customer_id</th>\n",
              "      <th>customer_unique_id</th>\n",
              "      <th>customer_zip_code_prefix</th>\n",
              "      <th>customer_city</th>\n",
              "      <th>customer_state</th>\n",
              "    </tr>\n",
              "  </thead>\n",
              "  <tbody>\n",
              "    <tr>\n",
              "      <th>0</th>\n",
              "      <td>06b8999e2fba1a1fbc88172c00ba8bc7</td>\n",
              "      <td>861eff4711a542e4b93843c6dd7febb0</td>\n",
              "      <td>14409</td>\n",
              "      <td>franca</td>\n",
              "      <td>SP</td>\n",
              "    </tr>\n",
              "    <tr>\n",
              "      <th>1</th>\n",
              "      <td>18955e83d337fd6b2def6b18a428ac77</td>\n",
              "      <td>290c77bc529b7ac935b93aa66c333dc3</td>\n",
              "      <td>9790</td>\n",
              "      <td>sao bernardo do campo</td>\n",
              "      <td>SP</td>\n",
              "    </tr>\n",
              "    <tr>\n",
              "      <th>2</th>\n",
              "      <td>4e7b3e00288586ebd08712fdd0374a03</td>\n",
              "      <td>060e732b5b29e8181a18229c7b0b2b5e</td>\n",
              "      <td>1151</td>\n",
              "      <td>sao paulo</td>\n",
              "      <td>SP</td>\n",
              "    </tr>\n",
              "    <tr>\n",
              "      <th>3</th>\n",
              "      <td>b2b6027bc5c5109e529d4dc6358b12c3</td>\n",
              "      <td>259dac757896d24d7702b9acbbff3f3c</td>\n",
              "      <td>8775</td>\n",
              "      <td>mogi das cruzes</td>\n",
              "      <td>SP</td>\n",
              "    </tr>\n",
              "    <tr>\n",
              "      <th>4</th>\n",
              "      <td>4f2d8ab171c80ec8364f7c12e35b23ad</td>\n",
              "      <td>345ecd01c38d18a9036ed96c73b8d066</td>\n",
              "      <td>13056</td>\n",
              "      <td>campinas</td>\n",
              "      <td>SP</td>\n",
              "    </tr>\n",
              "  </tbody>\n",
              "</table>\n",
              "</div>"
            ],
            "text/plain": [
              "                        customer_id  ... customer_state\n",
              "0  06b8999e2fba1a1fbc88172c00ba8bc7  ...             SP\n",
              "1  18955e83d337fd6b2def6b18a428ac77  ...             SP\n",
              "2  4e7b3e00288586ebd08712fdd0374a03  ...             SP\n",
              "3  b2b6027bc5c5109e529d4dc6358b12c3  ...             SP\n",
              "4  4f2d8ab171c80ec8364f7c12e35b23ad  ...             SP\n",
              "\n",
              "[5 rows x 5 columns]"
            ]
          },
          "metadata": {
            "tags": []
          },
          "execution_count": 32
        }
      ]
    },
    {
      "cell_type": "code",
      "metadata": {
        "id": "WzErtuqST0LQ",
        "colab_type": "code",
        "colab": {
          "base_uri": "https://localhost:8080/",
          "height": 221
        },
        "outputId": "01cd5922-35d2-411c-8f0e-6a13d732b260"
      },
      "source": [
        "customers.info()"
      ],
      "execution_count": 33,
      "outputs": [
        {
          "output_type": "stream",
          "text": [
            "<class 'pandas.core.frame.DataFrame'>\n",
            "RangeIndex: 99441 entries, 0 to 99440\n",
            "Data columns (total 5 columns):\n",
            " #   Column                    Non-Null Count  Dtype \n",
            "---  ------                    --------------  ----- \n",
            " 0   customer_id               99441 non-null  object\n",
            " 1   customer_unique_id        99441 non-null  object\n",
            " 2   customer_zip_code_prefix  99441 non-null  int64 \n",
            " 3   customer_city             99441 non-null  object\n",
            " 4   customer_state            99441 non-null  object\n",
            "dtypes: int64(1), object(4)\n",
            "memory usage: 3.8+ MB\n"
          ],
          "name": "stdout"
        }
      ]
    },
    {
      "cell_type": "markdown",
      "metadata": {
        "id": "liAJcs_4T3Fh",
        "colab_type": "text"
      },
      "source": [
        "En regardant les indicatifs des états de chaque client ainsi que les villes, il est facile de conclure que cet e-commerce vend au Brésil ses produits. Voici donc une visualisation rapide du nombre de commandes en fonction de l'état.\n"
      ]
    }
  ]
}